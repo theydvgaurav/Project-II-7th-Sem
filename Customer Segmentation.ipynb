{
 "cells": [
  {
   "cell_type": "markdown",
   "metadata": {},
   "source": [
    "---\n",
    "\n",
    "<h1 style='text-align: center'> Project II </h1>\n",
    "<h1 align=\"center\">Customer Segmentation</h1> \n",
    "<h4 align='center'>using K-means clustering</h4>\n",
    "\n",
    "---"
   ]
  },
  {
   "cell_type": "markdown",
   "metadata": {},
   "source": [
    "### 1. Importing the libraries and the data"
   ]
  },
  {
   "cell_type": "code",
   "execution_count": null,
   "metadata": {},
   "outputs": [],
   "source": [
    "import pandas as pd # Pandas (version : 1.1.5) \n",
    "import numpy as np # Numpy (version : 1.19.2)\n",
    "import matplotlib.pyplot as plt # Matplotlib (version :  3.3.2)\n",
    "from sklearn.cluster import KMeans # Scikit Learn (version : 0.23.2)\n",
    "import seaborn as sns # Seaborn (version : 0.11.1)\n",
    "plt.style.use('seaborn')"
   ]
  },
  {
   "cell_type": "markdown",
   "metadata": {},
   "source": [
    "---"
   ]
  },
  {
   "cell_type": "markdown",
   "metadata": {},
   "source": [
    "### 2. Importing the data from .csv file"
   ]
  },
  {
   "cell_type": "markdown",
   "metadata": {},
   "source": [
    "First we read the data from the dataset using `read_csv` from the pandas library. "
   ]
  },
  {
   "cell_type": "code",
   "execution_count": null,
   "metadata": {},
   "outputs": [],
   "source": [
    "data = pd.read_csv('input-data/InputData.csv')"
   ]
  },
  {
   "cell_type": "markdown",
   "metadata": {},
   "source": [
    "Viewing the data that we imported to pandas dataframe object"
   ]
  },
  {
   "cell_type": "code",
   "execution_count": null,
   "metadata": {},
   "outputs": [],
   "source": [
    "data"
   ]
  },
  {
   "cell_type": "markdown",
   "metadata": {},
   "source": [
    "---"
   ]
  },
  {
   "cell_type": "markdown",
   "metadata": {},
   "source": [
    "### 3. Viewing and Describing the data"
   ]
  },
  {
   "cell_type": "markdown",
   "metadata": {},
   "source": [
    "Now we view the Head and Tail of the data using `head()` and `tail()` respectively."
   ]
  },
  {
   "cell_type": "code",
   "execution_count": null,
   "metadata": {},
   "outputs": [],
   "source": [
    "data.head()"
   ]
  },
  {
   "cell_type": "code",
   "execution_count": null,
   "metadata": {},
   "outputs": [],
   "source": [
    "data.tail()"
   ]
  },
  {
   "cell_type": "markdown",
   "metadata": {},
   "source": [
    "Checking the sample size of data - how many samples are there in the dataset using `len()`."
   ]
  },
  {
   "cell_type": "code",
   "execution_count": null,
   "metadata": {},
   "outputs": [],
   "source": [
    "len(data)"
   ]
  },
  {
   "cell_type": "markdown",
   "metadata": {},
   "source": [
    "Checking the dimensions/shape of the dataset using `shape`."
   ]
  },
  {
   "cell_type": "code",
   "execution_count": null,
   "metadata": {},
   "outputs": [],
   "source": [
    "data.shape"
   ]
  },
  {
   "cell_type": "markdown",
   "metadata": {},
   "source": [
    "Viewing Column names of the dataset using `columns`"
   ]
  },
  {
   "cell_type": "code",
   "execution_count": null,
   "metadata": {},
   "outputs": [],
   "source": [
    "data.columns"
   ]
  },
  {
   "cell_type": "code",
   "execution_count": null,
   "metadata": {},
   "outputs": [],
   "source": [
    "for i,col in enumerate(data.columns):\n",
    "    print(f'Column number {1+i} is {col}')"
   ]
  },
  {
   "cell_type": "markdown",
   "metadata": {},
   "source": [
    "So, our dataset has 5 columns named:\n",
    "* CustomerID\n",
    "* Gender\n",
    "* Age\n",
    "* Annual Income (k\\$)\n",
    "* Spending Score (1-100)."
   ]
  },
  {
   "cell_type": "markdown",
   "metadata": {},
   "source": [
    "View datatypes of each column in the dataset using `dtype`."
   ]
  },
  {
   "cell_type": "code",
   "execution_count": null,
   "metadata": {},
   "outputs": [],
   "source": [
    "data.dtypes"
   ]
  },
  {
   "cell_type": "markdown",
   "metadata": {},
   "source": [
    "Gathering Further information about the dataset using `info()`"
   ]
  },
  {
   "cell_type": "code",
   "execution_count": null,
   "metadata": {},
   "outputs": [],
   "source": [
    "data.info()"
   ]
  },
  {
   "cell_type": "markdown",
   "metadata": {},
   "source": [
    "Describing the data as basic statistics using `describe()`"
   ]
  },
  {
   "cell_type": "code",
   "execution_count": null,
   "metadata": {},
   "outputs": [],
   "source": [
    "data.describe()"
   ]
  },
  {
   "cell_type": "markdown",
   "metadata": {},
   "source": [
    "### 4. Checking the data for inconsistencies and further cleaning the data if needed."
   ]
  },
  {
   "cell_type": "markdown",
   "metadata": {},
   "source": [
    "Checking data for missing values using `isnull()`."
   ]
  },
  {
   "cell_type": "code",
   "execution_count": null,
   "metadata": {},
   "outputs": [],
   "source": [
    "data.isnull()"
   ]
  },
  {
   "cell_type": "markdown",
   "metadata": {},
   "source": [
    "Checking summary of missing values"
   ]
  },
  {
   "cell_type": "code",
   "execution_count": null,
   "metadata": {},
   "outputs": [],
   "source": [
    "data.isnull().sum()"
   ]
  },
  {
   "cell_type": "markdown",
   "metadata": {},
   "source": [
    "The 'customer_id' column has no relevence therefore deleting it would be better."
   ]
  },
  {
   "cell_type": "markdown",
   "metadata": {},
   "source": [
    "Deleting 'customer_id' colummn using `drop()`."
   ]
  },
  {
   "cell_type": "code",
   "execution_count": null,
   "metadata": {},
   "outputs": [],
   "source": [
    "data = data.drop('CustomerID', axis=1)\n",
    "data.head()"
   ]
  },
  {
   "cell_type": "markdown",
   "metadata": {},
   "source": [
    "The 'Annual income' and 'Spending score' columns have spaces in their column names, we need to rename them."
   ]
  },
  {
   "cell_type": "markdown",
   "metadata": {},
   "source": [
    "Cleaning the data labels (Annual income and Spending Score) using `rename()`."
   ]
  },
  {
   "cell_type": "code",
   "execution_count": null,
   "metadata": {},
   "outputs": [],
   "source": [
    "data = data.rename(columns={'Annual Income (k$)':'Annual_Income','Spending Score (1-100)':'Spending_Score'})\n",
    "data.head()"
   ]
  },
  {
   "cell_type": "markdown",
   "metadata": {},
   "source": [
    "NOTE : Data doesnt have any missing values so it is clean, and therefore no need for cleaning the data"
   ]
  },
  {
   "cell_type": "markdown",
   "metadata": {},
   "source": [
    "### 5. Understanding and Visualizing Data"
   ]
  },
  {
   "cell_type": "markdown",
   "metadata": {},
   "source": [
    "Finding and viewing Corelations in the data and columns using `corr()`."
   ]
  },
  {
   "cell_type": "code",
   "execution_count": null,
   "metadata": {},
   "outputs": [],
   "source": [
    "corr = data.corr()\n",
    "corr"
   ]
  },
  {
   "cell_type": "markdown",
   "metadata": {},
   "source": [
    "Plotting the heatmap of correlation of all the columns of the dataset."
   ]
  },
  {
   "cell_type": "code",
   "execution_count": null,
   "metadata": {},
   "outputs": [],
   "source": [
    "fig, ax = plt.subplots(figsize=(10,8))\n",
    "sns.set(font_scale=1.5)\n",
    "ax = sns.heatmap(corr, cmap = 'Reds', annot = True, linewidths=0.5, linecolor='black')\n",
    "plt.title('Heatmap for the Data', fontsize = 20)\n",
    "plt.show()"
   ]
  },
  {
   "cell_type": "markdown",
   "metadata": {},
   "source": [
    "#### 5.1. Gender Data Visualization"
   ]
  },
  {
   "cell_type": "markdown",
   "metadata": {},
   "source": [
    "First we take a look at the gender column of the dataset."
   ]
  },
  {
   "cell_type": "code",
   "execution_count": null,
   "metadata": {},
   "outputs": [],
   "source": [
    "data['Gender'].head()"
   ]
  },
  {
   "cell_type": "markdown",
   "metadata": {},
   "source": [
    "Now we take a look at the data type of the column."
   ]
  },
  {
   "cell_type": "code",
   "execution_count": null,
   "metadata": {},
   "outputs": [],
   "source": [
    "data['Gender'].dtype"
   ]
  },
  {
   "cell_type": "markdown",
   "metadata": {},
   "source": [
    "Finding the unique values in the column using `unique()`."
   ]
  },
  {
   "cell_type": "code",
   "execution_count": null,
   "metadata": {},
   "outputs": [],
   "source": [
    "data['Gender'].unique()"
   ]
  },
  {
   "cell_type": "markdown",
   "metadata": {},
   "source": [
    "Counts of each type in the Gender Column using `value_counts()`."
   ]
  },
  {
   "cell_type": "code",
   "execution_count": null,
   "metadata": {},
   "outputs": [],
   "source": [
    "data['Gender'].value_counts()"
   ]
  },
  {
   "cell_type": "markdown",
   "metadata": {},
   "source": [
    "Plotting Gender Distribution on Bar graph and the ratio of distribution using Pie Chart."
   ]
  },
  {
   "cell_type": "code",
   "execution_count": null,
   "metadata": {},
   "outputs": [],
   "source": [
    "labels=data['Gender'].unique()\n",
    "values=data['Gender'].value_counts(ascending=True)\n",
    "\n",
    "\n",
    "fig, (ax0,ax1) = plt.subplots(ncols=2,figsize=(15,8))\n",
    "bar = ax0.bar(x=labels, height=values, width=0.4, align='center', color=['#42a7f5','#d400ad'])\n",
    "ax0.set(title='Count difference in Gender Distribution',xlabel='Gender', ylabel='No. of Customers')\n",
    "ax0.set_ylim(0,130)\n",
    "ax0.axhline(y=data['Gender'].value_counts()[0], color='#d400ad', linestyle='--', label=f'Female ({data.Gender.value_counts()[0]})')\n",
    "ax0.axhline(y=data['Gender'].value_counts()[1], color='#42a7f5', linestyle='--', label=f'Male ({data.Gender.value_counts()[1]})')\n",
    "ax0.legend()\n",
    "\n",
    "\n",
    "ax1.pie(values,labels=labels,colors=['#42a7f5','#d400ad'],autopct='%1.1f%%')\n",
    "ax1.set(title='Ratio of Gender Distribution')\n",
    "fig.suptitle('Gender Distribution', fontsize=30);\n",
    "plt.show()"
   ]
  },
  {
   "cell_type": "markdown",
   "metadata": {},
   "source": [
    "#### 5.2. Age Data Visualization"
   ]
  },
  {
   "cell_type": "markdown",
   "metadata": {},
   "source": [
    "First we take a look at the age column of the dataset."
   ]
  },
  {
   "cell_type": "code",
   "execution_count": null,
   "metadata": {},
   "outputs": [],
   "source": [
    "data['Age'].head()"
   ]
  },
  {
   "cell_type": "markdown",
   "metadata": {},
   "source": [
    "Now the Data type of the column."
   ]
  },
  {
   "cell_type": "code",
   "execution_count": null,
   "metadata": {},
   "outputs": [],
   "source": [
    "data['Age'].dtype"
   ]
  },
  {
   "cell_type": "markdown",
   "metadata": {},
   "source": [
    "Finding the unique values in the column."
   ]
  },
  {
   "cell_type": "code",
   "execution_count": null,
   "metadata": {},
   "outputs": [],
   "source": [
    "data['Age'].unique()"
   ]
  },
  {
   "cell_type": "markdown",
   "metadata": {},
   "source": [
    "Statistical Description of the Age column."
   ]
  },
  {
   "cell_type": "code",
   "execution_count": null,
   "metadata": {},
   "outputs": [],
   "source": [
    "data['Age'].describe()"
   ]
  },
  {
   "cell_type": "markdown",
   "metadata": {},
   "source": [
    "Visualizing Statistical Description of the Age on a boxplot."
   ]
  },
  {
   "cell_type": "code",
   "execution_count": null,
   "metadata": {},
   "outputs": [],
   "source": [
    "fig, ax = plt.subplots(figsize=(5,8))\n",
    "sns.set(font_scale=1.5)\n",
    "ax = sns.boxplot(y=data[\"Age\"], color=\"#f73434\")\n",
    "ax.axhline(y=data['Age'].max(), linestyle='--',color='#c90404', label=f'Max Age ({data.Age.max()})')\n",
    "ax.axhline(y=data['Age'].describe()[6], linestyle='--',color='#f74343', label=f'75% Age ({data.Age.describe()[6]:.2f})')\n",
    "ax.axhline(y=data['Age'].median(), linestyle='--',color='#eb50db', label=f'Median Age ({data.Age.median():.2f})')\n",
    "ax.axhline(y=data['Age'].describe()[4], linestyle='--',color='#eb50db', label=f'25% Age ({data.Age.describe()[4]:.2f})')\n",
    "ax.axhline(y=data['Age'].min(), linestyle='--',color='#046ebf', label=f'Min Age ({data.Age.min()})')\n",
    "ax.legend(fontsize='xx-small', loc='upper right')\n",
    "ax.set_ylabel('No. of Customers')\n",
    "\n",
    "plt.title('Age Distribution', fontsize = 20)\n",
    "plt.show()"
   ]
  },
  {
   "cell_type": "markdown",
   "metadata": {},
   "source": [
    "Counts of first five max age in the Age Column."
   ]
  },
  {
   "cell_type": "code",
   "execution_count": null,
   "metadata": {},
   "outputs": [],
   "source": [
    "data['Age'].value_counts().head()"
   ]
  },
  {
   "cell_type": "markdown",
   "metadata": {},
   "source": [
    "Visualizing Age Distribution using a countplot."
   ]
  },
  {
   "cell_type": "code",
   "execution_count": null,
   "metadata": {},
   "outputs": [],
   "source": [
    "fig, ax = plt.subplots(figsize=(20,8))\n",
    "sns.set(font_scale=1.5)\n",
    "ax = sns.countplot(x=data['Age'], palette='spring')\n",
    "ax.axhline(y=data['Age'].value_counts().max(), linestyle='--',color='#c90404', label=f'Max Age Count ({data.Age.value_counts().max()})')\n",
    "ax.axhline(y=data['Age'].value_counts().mean(), linestyle='--',color='#eb50db', label=f'Average Age Count ({data.Age.value_counts().mean():.1f})')\n",
    "ax.axhline(y=data['Age'].value_counts().min(), linestyle='--',color='#046ebf', label=f'Min Age Count ({data.Age.value_counts().min()})')\n",
    "ax.legend(loc ='right')\n",
    "ax.set_ylabel('No. of Customers')\n",
    "\n",
    "plt.title('Age Distribution', fontsize = 20)\n",
    "plt.show()"
   ]
  },
  {
   "cell_type": "markdown",
   "metadata": {},
   "source": [
    "###### Gender wise Age Distribution"
   ]
  },
  {
   "cell_type": "markdown",
   "metadata": {},
   "source": [
    "Statistical Age Distribution of Male customers."
   ]
  },
  {
   "cell_type": "code",
   "execution_count": null,
   "metadata": {},
   "outputs": [],
   "source": [
    "data[data['Gender']=='Male']['Age'].describe()"
   ]
  },
  {
   "cell_type": "markdown",
   "metadata": {},
   "source": [
    "Statistical Age Distribution of female customers."
   ]
  },
  {
   "cell_type": "code",
   "execution_count": null,
   "metadata": {},
   "outputs": [],
   "source": [
    "data[data['Gender']=='Female']['Age'].describe()"
   ]
  },
  {
   "cell_type": "markdown",
   "metadata": {},
   "source": [
    "Visualizing Gender wise Age Distribution of Male and Female customers on a boxplot."
   ]
  },
  {
   "cell_type": "code",
   "execution_count": null,
   "metadata": {},
   "outputs": [],
   "source": [
    "data_male = data[data['Gender']=='Male']['Age'].describe()\n",
    "data_female = data[data['Gender']=='Female']['Age'].describe()\n",
    "\n",
    "fig, (ax0,ax1) = plt.subplots(ncols=2,figsize=(15,8))\n",
    "sns.set(font_scale=1.5)\n",
    "sns.boxplot(y=data[data['Gender']=='Male']['Age'], color=\"#42a7f5\", ax=ax0)\n",
    "ax0.axhline(y=data['Age'].max(), linestyle='--',color='#c90404', label=f'Max Age ({data_male[7]})')\n",
    "ax0.axhline(y=data_male[6], linestyle='--',color='#eb50db', label=f'75% Age ({data_male[6]:.2f})')\n",
    "ax0.axhline(y=data_male[5], linestyle='--',color='#eb50db', label=f'Median Age ({data_male[5]:.2f})')\n",
    "ax0.axhline(y=data_male[4], linestyle='--',color='#eb50db', label=f'25% Age ({data_male[4]:.2f})')\n",
    "ax0.axhline(y=data_male[3], linestyle='--',color='#046ebf', label=f'Min Age ({data_male[3]})')\n",
    "ax0.legend(fontsize='xx-small', loc='upper right')\n",
    "ax0.set(ylabel='No. of Customers', title='Age Distribution of Male Customers')\n",
    "ax0.set_ylim(15,72)\n",
    "\n",
    "ax1 = sns.boxplot(y=data[data['Gender']=='Female']['Age'], color=\"#d400ad\", ax=ax1)\n",
    "ax1.axhline(y=data_female[7], linestyle='--',color='#c90404', label=f'Max Age ({data_female[7]})')\n",
    "ax1.axhline(y=data_female[6], linestyle='--',color='#eb50db', label=f'75% Age ({data_female[6]:.2f})')\n",
    "ax1.axhline(y=data_female[5], linestyle='--',color='#eb50db', label=f'Median Age ({data_female[5]:.2f})')\n",
    "ax1.axhline(y=data_female[4], linestyle='--',color='#eb50db', label=f'25% Age ({data_female[4]:.2f})')\n",
    "ax1.axhline(y=data_female[3], linestyle='--',color='#046ebf', label=f'Min Age ({data_female[3]})')\n",
    "ax1.legend(fontsize='xx-small', loc='upper right')\n",
    "ax1.set(ylabel='No. of Customers', title='Age Distribution of Female Customers')\n",
    "ax1.set_ylim(15,72)\n",
    "\n",
    "plt.show()"
   ]
  },
  {
   "cell_type": "markdown",
   "metadata": {},
   "source": [
    "Average Age of Male Customers."
   ]
  },
  {
   "cell_type": "code",
   "execution_count": null,
   "metadata": {},
   "outputs": [],
   "source": [
    "data[data['Gender']=='Male'].Age.mean()"
   ]
  },
  {
   "cell_type": "markdown",
   "metadata": {},
   "source": [
    "Counts of first five max age counts in the Male Customers."
   ]
  },
  {
   "cell_type": "code",
   "execution_count": null,
   "metadata": {},
   "outputs": [],
   "source": [
    "data[data['Gender']=='Male'].Age.value_counts().head()"
   ]
  },
  {
   "cell_type": "markdown",
   "metadata": {},
   "source": [
    "Visualizing distribution of age count in Male customers using a countplot."
   ]
  },
  {
   "cell_type": "code",
   "execution_count": null,
   "metadata": {},
   "outputs": [],
   "source": [
    "maxi = data[data['Gender']=='Male'].Age.value_counts().max()\n",
    "mean = data[data['Gender']=='Male'].Age.value_counts().mean()\n",
    "mini = data[data['Gender']=='Male'].Age.value_counts().min()\n",
    "\n",
    "\n",
    "fig, ax = plt.subplots(figsize=(20,8))\n",
    "sns.set(font_scale=1.5)\n",
    "ax = sns.countplot(x=data[data['Gender']=='Male'].Age, palette='spring')\n",
    "\n",
    "ax.axhline(y=maxi, linestyle='--',color='#c90404', label=f'Max Age Count ({maxi})')\n",
    "ax.axhline(y=mean, linestyle='--',color='#eb50db', label=f'Average Age Count ({mean:.1f})')\n",
    "ax.axhline(y=mini, linestyle='--',color='#046ebf', label=f'Min Age Count ({mini})')\n",
    "ax.set_ylabel('No. of Customers')\n",
    "\n",
    "ax.legend(loc ='right')\n",
    "\n",
    "plt.title('Age Count Distribution in Male Customers', fontsize = 20)\n",
    "plt.show()"
   ]
  },
  {
   "cell_type": "markdown",
   "metadata": {},
   "source": [
    "Average Age of Female Customers."
   ]
  },
  {
   "cell_type": "code",
   "execution_count": null,
   "metadata": {},
   "outputs": [],
   "source": [
    "data[data['Gender']=='Female'].Age.mean()"
   ]
  },
  {
   "cell_type": "markdown",
   "metadata": {},
   "source": [
    "Counts of first five max age count in the Female Customers."
   ]
  },
  {
   "cell_type": "code",
   "execution_count": null,
   "metadata": {},
   "outputs": [],
   "source": [
    "data[data['Gender']=='Female'].Age.value_counts().head()"
   ]
  },
  {
   "cell_type": "markdown",
   "metadata": {},
   "source": [
    "Visualizing distribution of age count in Female customers using a countplot."
   ]
  },
  {
   "cell_type": "code",
   "execution_count": null,
   "metadata": {},
   "outputs": [],
   "source": [
    "maxi = data[data['Gender']=='Female'].Age.value_counts().max()\n",
    "mean = data[data['Gender']=='Female'].Age.value_counts().mean()\n",
    "mini = data[data['Gender']=='Female'].Age.value_counts().min()\n",
    "\n",
    "\n",
    "fig, ax = plt.subplots(figsize=(20,8))\n",
    "sns.set(font_scale=1.5)\n",
    "ax = sns.countplot(x=data[data['Gender']=='Female'].Age, palette='spring')\n",
    "ax.axhline(y=maxi, linestyle='--',color='#c90404', label=f'Max Age Count ({maxi})')\n",
    "ax.axhline(y=mean, linestyle='--',color='#eb50db', label=f'Average Age Count ({mean:.1f})')\n",
    "ax.axhline(y=mini, linestyle='--',color='#046ebf', label=f'Min Age Count ({mini})')\n",
    "ax.set_ylabel('No. of Customers')\n",
    "ax.legend(loc ='right')\n",
    "\n",
    "plt.title('Age Distribution in Female Customers', fontsize = 20)\n",
    "plt.show()"
   ]
  },
  {
   "cell_type": "markdown",
   "metadata": {},
   "source": [
    "### 6. Analyzing Data  for Modelling"
   ]
  },
  {
   "cell_type": "markdown",
   "metadata": {},
   "source": [
    "#### 6.1. Analyzing Annual Income data"
   ]
  },
  {
   "cell_type": "markdown",
   "metadata": {},
   "source": [
    "First we look at the 'Annual Income' column."
   ]
  },
  {
   "cell_type": "code",
   "execution_count": null,
   "metadata": {},
   "outputs": [],
   "source": [
    "data['Annual_Income'].head()"
   ]
  },
  {
   "cell_type": "markdown",
   "metadata": {},
   "source": [
    "Data type of Annual Income Column."
   ]
  },
  {
   "cell_type": "code",
   "execution_count": null,
   "metadata": {},
   "outputs": [],
   "source": [
    "data['Annual_Income'].dtype"
   ]
  },
  {
   "cell_type": "markdown",
   "metadata": {},
   "source": [
    "Statistical data about Annual Income column."
   ]
  },
  {
   "cell_type": "code",
   "execution_count": null,
   "metadata": {},
   "outputs": [],
   "source": [
    "data['Annual_Income'].describe()"
   ]
  },
  {
   "cell_type": "markdown",
   "metadata": {},
   "source": [
    "Visualizing statistical data about Annual Income column on a boxplot."
   ]
  },
  {
   "cell_type": "code",
   "execution_count": null,
   "metadata": {},
   "outputs": [],
   "source": [
    "fig, ax = plt.subplots(figsize=(5,8))\n",
    "sns.set(font_scale=1.5)\n",
    "ax = sns.boxplot(y=data[\"Annual_Income\"], color=\"#f73434\")\n",
    "ax.axhline(y=data[\"Annual_Income\"].max(), linestyle='--',color='#c90404', label=f'Max Income ({data.Annual_Income.max()})')\n",
    "ax.axhline(y=data[\"Annual_Income\"].describe()[6], linestyle='--',color='#f74343', label=f'75% Income ({data.Annual_Income.describe()[6]:.2f})')\n",
    "ax.axhline(y=data[\"Annual_Income\"].median(), linestyle='--',color='#eb50db', label=f'Median Income ({data.Annual_Income.median():.2f})')\n",
    "ax.axhline(y=data[\"Annual_Income\"].describe()[4], linestyle='--',color='#eb50db', label=f'25% Income ({data.Annual_Income.describe()[4]:.2f})')\n",
    "ax.axhline(y=data[\"Annual_Income\"].min(), linestyle='--',color='#046ebf', label=f'Min Income ({data.Annual_Income.min()})')\n",
    "ax.legend(fontsize='xx-small', loc='upper right')\n",
    "ax.set_ylabel('No. of Customers')\n",
    "\n",
    "plt.title('Annual Income (in Thousand USD)', fontsize = 20)\n",
    "plt.show()"
   ]
  },
  {
   "cell_type": "markdown",
   "metadata": {},
   "source": [
    "Distribution of Annual Income counts."
   ]
  },
  {
   "cell_type": "code",
   "execution_count": null,
   "metadata": {},
   "outputs": [],
   "source": [
    "data['Annual_Income'].value_counts().head()"
   ]
  },
  {
   "cell_type": "markdown",
   "metadata": {},
   "source": [
    "Visualizing Annual Income count value distribution on a histogram."
   ]
  },
  {
   "cell_type": "code",
   "execution_count": null,
   "metadata": {},
   "outputs": [],
   "source": [
    "fig, ax = plt.subplots(figsize=(15,7))\n",
    "sns.set(font_scale=1.5)\n",
    "ax = sns.histplot(data['Annual_Income'], bins=15, ax=ax, color='blue')\n",
    "ax.set_xlabel('Annual Income (in Thousand USD)')\n",
    "plt.title('Annual Income count Distribution of Customers', fontsize = 20)\n",
    "plt.show()"
   ]
  },
  {
   "cell_type": "markdown",
   "metadata": {},
   "source": [
    "Visualizing Annual Income per Age on a Scatterplot."
   ]
  },
  {
   "cell_type": "code",
   "execution_count": null,
   "metadata": {},
   "outputs": [],
   "source": [
    "fig, ax = plt.subplots(figsize=(15,7))\n",
    "sns.set(font_scale=1.5)\n",
    "ax = sns.scatterplot(y=data['Annual_Income'], x=data['Age'], color='#f73434', s=70,edgecolor='black', linewidth=0.3)\n",
    "ax.set_ylabel('Annual Income (in Thousand USD)')\n",
    "\n",
    "plt.title('Annual Income per Age', fontsize = 20)\n",
    "plt.show()"
   ]
  },
  {
   "cell_type": "markdown",
   "metadata": {},
   "source": [
    "###### Annual Income per Gender."
   ]
  },
  {
   "cell_type": "markdown",
   "metadata": {},
   "source": [
    "Statistical data about the Annual Income of male customer."
   ]
  },
  {
   "cell_type": "code",
   "execution_count": null,
   "metadata": {},
   "outputs": [],
   "source": [
    "data[data['Gender']=='Male'].Annual_Income.describe()"
   ]
  },
  {
   "cell_type": "markdown",
   "metadata": {},
   "source": [
    "Statistical data about the Annual Income of female customer."
   ]
  },
  {
   "cell_type": "code",
   "execution_count": null,
   "metadata": {},
   "outputs": [],
   "source": [
    "data[data['Gender']=='Female'].Annual_Income.describe()"
   ]
  },
  {
   "cell_type": "markdown",
   "metadata": {},
   "source": [
    "Visualizing statistical difference of Annual Income between Male and Female Customers."
   ]
  },
  {
   "cell_type": "code",
   "execution_count": null,
   "metadata": {},
   "outputs": [],
   "source": [
    "fig, ax = plt.subplots(figsize=(10,8))\n",
    "sns.set(font_scale=1.5)\n",
    "ax = sns.boxplot(x=data['Gender'], y=data[\"Annual_Income\"], hue=data['Gender'], palette='seismic')\n",
    "ax.set_ylabel('Annual Income (in Thousand USD)')\n",
    "\n",
    "plt.title('Annual Income Distribution by Gender', fontsize = 20)\n",
    "plt.show()"
   ]
  },
  {
   "cell_type": "markdown",
   "metadata": {},
   "source": [
    "Visualizing annual Income per Age by Gender on a scatterplot."
   ]
  },
  {
   "cell_type": "code",
   "execution_count": null,
   "metadata": {},
   "outputs": [],
   "source": [
    "fig, ax = plt.subplots(figsize=(15,7))\n",
    "sns.set(font_scale=1.5)\n",
    "ax = sns.scatterplot(y=data['Annual_Income'], x=data['Age'], hue=data['Gender'], palette='seismic', s=70,edgecolor='black', linewidth=0.3)\n",
    "ax.set_ylabel('Annual Income (in Thousand USD)')\n",
    "ax.legend(loc ='upper right')\n",
    "\n",
    "plt.title('Annual Income per Age by Gender', fontsize = 20)\n",
    "plt.show()"
   ]
  },
  {
   "cell_type": "markdown",
   "metadata": {},
   "source": [
    "Visualizing difference of Annual Income between Male and Female Customers using Violin Plot."
   ]
  },
  {
   "cell_type": "code",
   "execution_count": null,
   "metadata": {},
   "outputs": [],
   "source": [
    "fig, ax = plt.subplots(figsize=(15,7))\n",
    "sns.set(font_scale=1.5)\n",
    "ax = sns.violinplot(y=data['Annual_Income'],x=data['Gender'])\n",
    "ax.set_ylabel('Annual Income (in Thousand USD)')\n",
    "\n",
    "plt.title('Annual Income Distribution by Gender', fontsize = 20)\n",
    "plt.show()"
   ]
  },
  {
   "cell_type": "markdown",
   "metadata": {},
   "source": [
    "#### 6.2. Analyzing Spending Score data"
   ]
  },
  {
   "cell_type": "markdown",
   "metadata": {},
   "source": [
    "First we look at the Spending Score column."
   ]
  },
  {
   "cell_type": "code",
   "execution_count": null,
   "metadata": {},
   "outputs": [],
   "source": [
    "data['Spending_Score'].head()"
   ]
  },
  {
   "cell_type": "markdown",
   "metadata": {},
   "source": [
    "Data type of Spending score column."
   ]
  },
  {
   "cell_type": "code",
   "execution_count": null,
   "metadata": {},
   "outputs": [],
   "source": [
    "data['Spending_Score'].dtype"
   ]
  },
  {
   "cell_type": "markdown",
   "metadata": {},
   "source": [
    "Statistical Data of Spending Scores Column."
   ]
  },
  {
   "cell_type": "code",
   "execution_count": null,
   "metadata": {},
   "outputs": [],
   "source": [
    "data['Spending_Score'].describe()"
   ]
  },
  {
   "cell_type": "markdown",
   "metadata": {},
   "source": [
    "Visualizing statistical data about Spending score column on a boxplot."
   ]
  },
  {
   "cell_type": "code",
   "execution_count": null,
   "metadata": {},
   "outputs": [],
   "source": [
    "fig, ax = plt.subplots(figsize=(5,8))\n",
    "sns.set(font_scale=1.5)\n",
    "ax = sns.boxplot(y=data['Spending_Score'], color=\"#f73434\")\n",
    "ax.axhline(y=data['Spending_Score'].max(), linestyle='--',color='#c90404', label=f'Max Spending ({data.Spending_Score.max()})')\n",
    "ax.axhline(y=data['Spending_Score'].describe()[6], linestyle='--',color='#f74343', label=f'75% Spending ({data.Spending_Score.describe()[6]:.2f})')\n",
    "ax.axhline(y=data['Spending_Score'].median(), linestyle='--',color='#eb50db', label=f'Median Spending ({data.Spending_Score.median():.2f})')\n",
    "ax.axhline(y=data['Spending_Score'].describe()[4], linestyle='--',color='#eb50db', label=f'25% Spending ({data.Spending_Score.describe()[4]:.2f})')\n",
    "ax.axhline(y=data['Spending_Score'].min(), linestyle='--',color='#046ebf', label=f'Min Spending ({data.Spending_Score.min()})')\n",
    "ax.legend(fontsize='xx-small', loc='upper right')\n",
    "ax.set_ylabel('Spending Score')\n",
    "\n",
    "plt.title('Spending Score', fontsize = 20)\n",
    "plt.show()"
   ]
  },
  {
   "cell_type": "markdown",
   "metadata": {},
   "source": [
    "Visualizing Spending Scores per Age on a scatterplot."
   ]
  },
  {
   "cell_type": "code",
   "execution_count": null,
   "metadata": {},
   "outputs": [],
   "source": [
    "fig, ax = plt.subplots(figsize=(15,7))\n",
    "sns.set(font_scale=1.5)\n",
    "ax = sns.scatterplot(y=data['Spending_Score'], x=data['Age'], s=70, color='#f73434', edgecolor='black', linewidth=0.3)\n",
    "ax.set_ylabel('Spending Scores')\n",
    "\n",
    "plt.title('Spending Scores per Age', fontsize = 20)\n",
    "plt.show()"
   ]
  },
  {
   "cell_type": "markdown",
   "metadata": {},
   "source": [
    "###### Spending Scores per Gender"
   ]
  },
  {
   "cell_type": "markdown",
   "metadata": {},
   "source": [
    "Statistical data of Spending Score of male customer."
   ]
  },
  {
   "cell_type": "code",
   "execution_count": null,
   "metadata": {},
   "outputs": [],
   "source": [
    "data[data['Gender']=='Male'].Annual_Income.describe()"
   ]
  },
  {
   "cell_type": "markdown",
   "metadata": {},
   "source": [
    "Statistical data of Spending Score of female customer."
   ]
  },
  {
   "cell_type": "code",
   "execution_count": null,
   "metadata": {},
   "outputs": [],
   "source": [
    "data[data['Gender']=='Female'].Annual_Income.describe()"
   ]
  },
  {
   "cell_type": "markdown",
   "metadata": {},
   "source": [
    "Visualizing statistical difference of Spending Score between Male and Female Customers."
   ]
  },
  {
   "cell_type": "code",
   "execution_count": null,
   "metadata": {},
   "outputs": [],
   "source": [
    "fig, ax = plt.subplots(figsize=(10,8))\n",
    "sns.set(font_scale=1.5)\n",
    "ax = sns.boxplot(x=data['Gender'], y=data[\"Spending_Score\"], hue=data['Gender'], palette='seismic')\n",
    "ax.set_ylabel('Spending Score')\n",
    "\n",
    "plt.title('Spending Score Distribution by Gender', fontsize = 20)\n",
    "plt.show()"
   ]
  },
  {
   "cell_type": "markdown",
   "metadata": {},
   "source": [
    "Visualizing Spending Score per Age by Gender on a scatterplot."
   ]
  },
  {
   "cell_type": "code",
   "execution_count": null,
   "metadata": {},
   "outputs": [],
   "source": [
    "fig, ax = plt.subplots(figsize=(15,7))\n",
    "sns.set(font_scale=1.5)\n",
    "ax = sns.scatterplot(y=data['Spending_Score'], x=data['Age'], hue=data['Gender'], palette='seismic', s=70,edgecolor='black', linewidth=0.3)\n",
    "ax.set_ylabel('Spending Scores')\n",
    "ax.legend(loc ='upper right')\n",
    "\n",
    "plt.title('Spending Score per Age by Gender', fontsize = 20)\n",
    "plt.show()"
   ]
  },
  {
   "cell_type": "markdown",
   "metadata": {},
   "source": [
    "Visualizing difference of Spending Score between Male and Female Customers using Violin Plot."
   ]
  },
  {
   "cell_type": "code",
   "execution_count": null,
   "metadata": {},
   "outputs": [],
   "source": [
    "fig, ax = plt.subplots(figsize=(15,7))\n",
    "sns.set(font_scale=1.5)\n",
    "ax = sns.violinplot(y=data['Spending_Score'],x=data['Gender'])\n",
    "ax.set_ylabel('Spending Scores')\n",
    "\n",
    "plt.title('Spending Score distribution by Gender', fontsize = 20)\n",
    "plt.show()"
   ]
  },
  {
   "cell_type": "markdown",
   "metadata": {},
   "source": [
    "#### K - Means Clustering"
   ]
  },
  {
   "cell_type": "markdown",
   "metadata": {},
   "source": [
    "K-means clustering is a clustering algorithm that aims to partition n observations into k clusters. Initialisation – K initial “means” (centroids) are generated at random Assignment – K clusters are created by associating each observation with the nearest centroid Update – The centroid of the clusters becomes the new mean, Assignment and Update are repeated iteratively until convergence The end result is that the sum of squared errors is minimised between points and their respective centroids. We will use KMeans Clustering. At first we will find the optimal clusters based on inertia and using elbow method. The distance between the centroids and the data points should be less."
   ]
  },
  {
   "cell_type": "markdown",
   "metadata": {},
   "source": [
    "First we need to check the data for any missing values as it can ruin our model."
   ]
  },
  {
   "cell_type": "code",
   "execution_count": null,
   "metadata": {},
   "outputs": [],
   "source": [
    "data.isna().sum()"
   ]
  },
  {
   "cell_type": "markdown",
   "metadata": {},
   "source": [
    "We conclude that we don't have any missing values therefore we can go forward and start the clustering procedure."
   ]
  },
  {
   "cell_type": "markdown",
   "metadata": {},
   "source": [
    "We will now view and select the data that we need for clustering."
   ]
  },
  {
   "cell_type": "code",
   "execution_count": null,
   "metadata": {},
   "outputs": [],
   "source": [
    "data.head()"
   ]
  },
  {
   "cell_type": "code",
   "execution_count": null,
   "metadata": {},
   "outputs": [],
   "source": [
    "clustering_data = data.iloc[:,[2,3]]\n",
    "clustering_data.head()"
   ]
  },
  {
   "cell_type": "markdown",
   "metadata": {},
   "source": [
    "Now, we need to visualize the data which we are going to use for the clustering.\n",
    "This will give us a fair idea about the data we're working on."
   ]
  },
  {
   "cell_type": "code",
   "execution_count": null,
   "metadata": {},
   "outputs": [],
   "source": [
    "fig, ax = plt.subplots(figsize=(15,7))\n",
    "sns.set(font_scale=1.5)\n",
    "ax = sns.scatterplot(y=clustering_data['Spending_Score'],x=clustering_data['Annual_Income'], s=70, color='#f73434', edgecolor='black', linewidth=0.3)\n",
    "ax.set_ylabel('Spending Scores')\n",
    "ax.set_xlabel('Annual Income (in Thousand USD)')\n",
    "plt.title('Spending Score per Annual Income', fontsize = 20)\n",
    "plt.show()"
   ]
  },
  {
   "cell_type": "markdown",
   "metadata": {},
   "source": [
    "This gives us a fair Idea and patterns about some of the data. "
   ]
  },
  {
   "cell_type": "markdown",
   "metadata": {},
   "source": [
    "### 7. Determining No. of Clusters Required"
   ]
  },
  {
   "cell_type": "markdown",
   "metadata": {},
   "source": [
    "**The Elbow Method**\n",
    "\n",
    "The Elbow method runs k-means clustering on the dataset for a range of values for k (say from 1-10) and then for each value of k computes an average score for all clusters. By default, the distortion score is computed, the sum of square distances from each point to its assigned center.\n",
    "\n",
    "When these overall metrics for each model are plotted, it is possible to visually determine the best value for k. If the line chart looks like an arm, then the “elbow” (the point of inflection on the curve) is the best value of k. The “arm” can be either up or down, but if there is a strong inflection point, it is a good indication that the underlying model fits best at that point."
   ]
  },
  {
   "cell_type": "markdown",
   "metadata": {},
   "source": [
    "We use the Elbow Method which uses Within Cluster Sum Of Squares (WCSS) against the the number of clusters (K Value) to figure out the optimal number of clusters value. WCSS measures sum of distances of observations from their cluster centroids which is given by the below formula.\n",
    "\n",
    "![formula](assets/formula.png)\n",
    "\n",
    "where Yi is centroid for observation Xi. The main goal is to maximize number of clusters and in limiting case each data point becomes its own cluster centroid.\n"
   ]
  },
  {
   "cell_type": "markdown",
   "metadata": {},
   "source": [
    "With this simple line of code we get all the inertia value or the within the cluster sum of square."
   ]
  },
  {
   "cell_type": "code",
   "execution_count": null,
   "metadata": {},
   "outputs": [],
   "source": [
    "from sklearn.cluster import KMeans\n",
    "wcss=[]\n",
    "for i in range(1,30):\n",
    "    km = KMeans(i)\n",
    "    km.fit(clustering_data)\n",
    "    wcss.append(km.inertia_)\n",
    "np.array(wcss)"
   ]
  },
  {
   "cell_type": "markdown",
   "metadata": {},
   "source": [
    "Inertia can be recognized as a measure of how internally coherent clusters are."
   ]
  },
  {
   "cell_type": "markdown",
   "metadata": {},
   "source": [
    "Now, we visualize the Elbow Method so that we can determine the number of optimal clusters for our dataset."
   ]
  },
  {
   "cell_type": "code",
   "execution_count": null,
   "metadata": {},
   "outputs": [],
   "source": [
    "fig, ax = plt.subplots(figsize=(15,7))\n",
    "ax = plt.plot(range(1,30),wcss, linewidth=2, color=\"red\", marker =\"8\")\n",
    "plt.axvline(x=5, ls='--')\n",
    "plt.ylabel('WCSS')\n",
    "plt.xlabel('No. of Clusters (k)')\n",
    "plt.title('The Elbow Method', fontsize = 20)\n",
    "plt.show()"
   ]
  },
  {
   "cell_type": "markdown",
   "metadata": {},
   "source": [
    "It is clear, that the optimal number of clusters for our data are 5, as the slope of the curve is not steep enough after it. When we observe this curve, we see that last elbow comes at k = 5, it would be difficult to visualize the elbow if we choose the higher range."
   ]
  },
  {
   "cell_type": "markdown",
   "metadata": {},
   "source": [
    "### 8. Clustering"
   ]
  },
  {
   "cell_type": "markdown",
   "metadata": {},
   "source": [
    "Now we will build the model for creating clusters from the dataset.\n",
    "We will use `n_clusters = 5` i.e. 5 clusters as we have determined by the elbow method, which would be optimal for our dataset.\n",
    "\n",
    "Our data set is for  unsupervised learning therefore we will use `fit_predict()`\n",
    "Suppose we were working with  supervised learning data set we would use `fit_tranform()`"
   ]
  },
  {
   "cell_type": "code",
   "execution_count": null,
   "metadata": {},
   "outputs": [],
   "source": [
    "from sklearn.cluster import KMeans\n",
    "\n",
    "kms = KMeans(n_clusters=5, init='k-means++')\n",
    "kms.fit(clustering_data)"
   ]
  },
  {
   "cell_type": "markdown",
   "metadata": {},
   "source": [
    "Now that we have the clusters created, we will enter them into a different column"
   ]
  },
  {
   "cell_type": "code",
   "execution_count": null,
   "metadata": {
    "scrolled": true
   },
   "outputs": [],
   "source": [
    "clusters = clustering_data.copy()\n",
    "clusters['Cluster_Prediction'] = kms.fit_predict(clustering_data)\n",
    "clusters.head()"
   ]
  },
  {
   "cell_type": "markdown",
   "metadata": {},
   "source": [
    "We can also get the centroids of the clusters by the `cluster_centers_` attribute of KMeans algorithm."
   ]
  },
  {
   "cell_type": "code",
   "execution_count": null,
   "metadata": {},
   "outputs": [],
   "source": [
    "kms.cluster_centers_"
   ]
  },
  {
   "cell_type": "markdown",
   "metadata": {},
   "source": [
    "Now we have all the data we need, we just need to plot the data. We will plot the data using scatterplot which will allow us to observe different clusters in different colours."
   ]
  },
  {
   "cell_type": "code",
   "execution_count": null,
   "metadata": {
    "scrolled": false
   },
   "outputs": [],
   "source": [
    "fig, ax = plt.subplots(figsize=(15,7)) \n",
    "plt.scatter(x=clusters[clusters['Cluster_Prediction'] == 4]['Annual_Income'],\n",
    "            y=clusters[clusters['Cluster_Prediction'] == 4]['Spending_Score'],\n",
    "            s=70,edgecolor='black', linewidth=0.3, c='orange', label='Cluster 1')\n",
    "\n",
    "plt.scatter(x=clusters[clusters['Cluster_Prediction'] == 0]['Annual_Income'],\n",
    "            y=clusters[clusters['Cluster_Prediction'] == 0]['Spending_Score'],\n",
    "            s=70,edgecolor='black', linewidth=0.3, c='deepskyblue', label='Cluster 2')\n",
    "\n",
    "plt.scatter(x=clusters[clusters['Cluster_Prediction'] == 2]['Annual_Income'],\n",
    "            y=clusters[clusters['Cluster_Prediction'] == 2]['Spending_Score'],\n",
    "            s=70,edgecolor='black', linewidth=0.2, c='Magenta', label='Cluster 3')\n",
    "\n",
    "plt.scatter(x=clusters[clusters['Cluster_Prediction'] == 1]['Annual_Income'],\n",
    "            y=clusters[clusters['Cluster_Prediction'] == 1]['Spending_Score'],\n",
    "            s=70,edgecolor='black', linewidth=0.3, c='red', label='Cluster 4')\n",
    "\n",
    "plt.scatter(x=clusters[clusters['Cluster_Prediction'] == 3]['Annual_Income'],\n",
    "            y=clusters[clusters['Cluster_Prediction'] == 3]['Spending_Score'],\n",
    "            s=70,edgecolor='black', linewidth=0.3, c='lime', label='Cluster 5')\n",
    "\n",
    "\n",
    "\n",
    "plt.scatter(x=kms.cluster_centers_[:, 0], y=kms.cluster_centers_[:, 1], s = 120, c = 'yellow', label = 'Centroids',edgecolor='black', linewidth=0.3)\n",
    "plt.legend(loc='right')\n",
    "plt.xlim(0,140)\n",
    "plt.ylim(0,100)\n",
    "plt.xlabel('Annual Income (in Thousand USD)')\n",
    "plt.ylabel('Spending Score')\n",
    "plt.title('Clusters', fontsize = 20)\n",
    "plt.show()"
   ]
  },
  {
   "cell_type": "markdown",
   "metadata": {},
   "source": [
    "### 9. Analysis"
   ]
  },
  {
   "cell_type": "markdown",
   "metadata": {},
   "source": [
    "Analyzing Data using the above graph becomes much more easier as it gives us a visual aid for better understanding of the \n",
    "data.\n",
    "Kmeans has divided the dataset into 5 clusters based on Annual income and the spending scores of the individual customers.\n",
    "The following clusters are created by the model, \n",
    "1. Cluster Orange\n",
    "1. Cluster Blue\n",
    "1. Cluster Purple\n",
    "1. Cluster Red\n",
    "1. Cluster Green"
   ]
  },
  {
   "cell_type": "markdown",
   "metadata": {},
   "source": [
    "Visualizing all the clusters Seperately will provide us more insights."
   ]
  },
  {
   "cell_type": "code",
   "execution_count": null,
   "metadata": {},
   "outputs": [],
   "source": [
    "fig, ax = plt.subplots(nrows=3, ncols=2, figsize=(15,20))\n",
    "ax[0,0].scatter(x=clusters[clusters['Cluster_Prediction'] == 4]['Annual_Income'],\n",
    "            y=clusters[clusters['Cluster_Prediction'] == 4]['Spending_Score'],\n",
    "            s=40,edgecolor='black', linewidth=0.3, c='orange', label='Cluster 1')\n",
    "ax[0,0].scatter(x=kms.cluster_centers_[4,0], y=kms.cluster_centers_[4,1],\n",
    "                s = 120, c = 'yellow',edgecolor='black', linewidth=0.3)\n",
    "ax[0,0].set(xlim=(0,140), ylim=(0,100), xlabel='Annual Income', ylabel='Spending Score', title='Cluster 1')\n",
    "\n",
    "ax[0,1].scatter(x=clusters[clusters['Cluster_Prediction'] == 0]['Annual_Income'],\n",
    "            y=clusters[clusters['Cluster_Prediction'] == 0]['Spending_Score'],\n",
    "            s=40,edgecolor='black', linewidth=0.3, c='deepskyblue', label='Cluster 2')\n",
    "ax[0,1].scatter(x=kms.cluster_centers_[0,0], y=kms.cluster_centers_[0,1],\n",
    "                s = 120, c = 'yellow',edgecolor='black', linewidth=0.3)\n",
    "ax[0,1].set(xlim=(0,140), ylim=(0,100), xlabel='Annual Income', ylabel='Spending Score', title='Cluster 2')\n",
    "\n",
    "ax[1,0].scatter(x=clusters[clusters['Cluster_Prediction'] == 2]['Annual_Income'],\n",
    "            y=clusters[clusters['Cluster_Prediction'] == 2]['Spending_Score'],\n",
    "            s=40,edgecolor='black', linewidth=0.2, c='Magenta', label='Cluster 3')\n",
    "ax[1,0].scatter(x=kms.cluster_centers_[2,0], y=kms.cluster_centers_[2,1],\n",
    "                s = 120, c = 'yellow',edgecolor='black', linewidth=0.3)\n",
    "ax[1,0].set(xlim=(0,140), ylim=(0,100), xlabel='Annual Income', ylabel='Spending Score', title='Cluster 3')\n",
    "\n",
    "ax[1,1].scatter(x=clusters[clusters['Cluster_Prediction'] == 1]['Annual_Income'],\n",
    "            y=clusters[clusters['Cluster_Prediction'] == 1]['Spending_Score'],\n",
    "            s=40,edgecolor='black', linewidth=0.3, c='red', label='Cluster 4')\n",
    "ax[1,1].scatter(x=kms.cluster_centers_[1,0], y=kms.cluster_centers_[1,1],\n",
    "                s = 120, c = 'yellow',edgecolor='black', linewidth=0.3)\n",
    "ax[1,1].set(xlim=(0,140), ylim=(0,100), xlabel='Annual Income', ylabel='Spending Score', title='Cluster 4')\n",
    "\n",
    "ax[2,0].scatter(x=clusters[clusters['Cluster_Prediction'] == 3]['Annual_Income'],\n",
    "            y=clusters[clusters['Cluster_Prediction'] == 3]['Spending_Score'],\n",
    "            s=40,edgecolor='black', linewidth=0.3, c='lime', label='Cluster 5')\n",
    "ax[2,0].scatter(x=kms.cluster_centers_[3,0], y=kms.cluster_centers_[3,1],\n",
    "                s = 120, c = 'yellow',edgecolor='black', linewidth=0.3, label='Centroids')\n",
    "ax[2,0].set(xlim=(0,140), ylim=(0,100), xlabel='Annual Income', ylabel='Spending Score', title='Cluster 5')\n",
    "\n",
    "fig.delaxes(ax[2,1])\n",
    "fig.legend(loc='right')\n",
    "fig.suptitle('Individual Clusters')\n",
    "plt.show()"
   ]
  },
  {
   "cell_type": "markdown",
   "metadata": {},
   "source": [
    "1. **Cluster Orange - Balanced Customers :**\n",
    "\n",
    "    They earn less and spend less. We can see people have low annual income and low spending scores, this is quite reasonable as people having low salaries prefer to buy less, in fact, these are the wise people who know how to spend and save money. The shops/mall will be least interested in people belonging to this cluster.\n",
    "<br>\n",
    "1. **Cluster Blue - Pinch Penny Customers :**\n",
    "\n",
    "    Earning high and spending less. We see that people have high income but low spending scores, this is interesting. Maybe these are the people who are unsatisfied or unhappy by the mall’s services. These can be the prime targets of the mall, as they have the potential to spend money. So, the mall authorities will try to add new facilities so that they can attract these people and can meet their needs.\n",
    "<br>\n",
    "1. **Cluster Purple - Normal Customer :**\n",
    "\n",
    "    Customers are average in terms of earning and spending An Average consumer in terms of spending and Annual Income we see that people have average income and an average spending score, these people again will not be the prime targets of the shops or mall, but again they will be considered and other data analysis techniques may be used to increase their spending score.\n",
    "    <br>\n",
    "1. **Cluster Red - Spenders :**\n",
    "\n",
    "    This type of customers earns less but spends more Annual Income is less but spending high, so can also be treated as potential target customer we can see that people have low income but higher spending scores, these are those people who for some reason love to buy products more often even though they have a low income. Maybe it’s because these people are more than satisfied with the mall services. The shops/malls might not target these people that effectively but still will not lose them.\n",
    "    <br>\n",
    "1. **Cluster Green - Target Customers :**\n",
    "\n",
    "    Earning high and also spending high Target Customers. Annual Income High as well as Spending Score is high, so a target consumer. we see that people have high income and high spending scores, this is the ideal case for the mall or shops as these people are the prime sources of profit. These people might be the regular customers of the mall and are convinced by the mall’s facilities."
   ]
  }
 ],
 "metadata": {
  "kernelspec": {
   "display_name": "Python 3 (ipykernel)",
   "language": "python",
   "name": "python3"
  },
  "language_info": {
   "codemirror_mode": {
    "name": "ipython",
    "version": 3
   },
   "file_extension": ".py",
   "mimetype": "text/x-python",
   "name": "python",
   "nbconvert_exporter": "python",
   "pygments_lexer": "ipython3",
   "version": "3.10.6"
  },
  "vscode": {
   "interpreter": {
    "hash": "916dbcbb3f70747c44a77c7bcd40155683ae19c65e1c03b4aa3499c5328201f1"
   }
  }
 },
 "nbformat": 4,
 "nbformat_minor": 4
}
